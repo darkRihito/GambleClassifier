{
 "cells": [
  {
   "cell_type": "code",
   "execution_count": 1,
   "id": "1ddb628d",
   "metadata": {},
   "outputs": [
    {
     "data": {
      "text/html": [
       "<div>\n",
       "<style scoped>\n",
       "    .dataframe tbody tr th:only-of-type {\n",
       "        vertical-align: middle;\n",
       "    }\n",
       "\n",
       "    .dataframe tbody tr th {\n",
       "        vertical-align: top;\n",
       "    }\n",
       "\n",
       "    .dataframe thead th {\n",
       "        text-align: right;\n",
       "    }\n",
       "</style>\n",
       "<table border=\"1\" class=\"dataframe\">\n",
       "  <thead>\n",
       "    <tr style=\"text-align: right;\">\n",
       "      <th></th>\n",
       "      <th>p1</th>\n",
       "      <th>p2</th>\n",
       "      <th>p3</th>\n",
       "      <th>p4</th>\n",
       "      <th>p5</th>\n",
       "      <th>p6</th>\n",
       "      <th>p7</th>\n",
       "      <th>p8</th>\n",
       "      <th>outcome</th>\n",
       "    </tr>\n",
       "  </thead>\n",
       "  <tbody>\n",
       "    <tr>\n",
       "      <th>0</th>\n",
       "      <td>5</td>\n",
       "      <td>5</td>\n",
       "      <td>5</td>\n",
       "      <td>6</td>\n",
       "      <td>6</td>\n",
       "      <td>8</td>\n",
       "      <td>1</td>\n",
       "      <td>1</td>\n",
       "      <td>8</td>\n",
       "    </tr>\n",
       "    <tr>\n",
       "      <th>1</th>\n",
       "      <td>5</td>\n",
       "      <td>5</td>\n",
       "      <td>6</td>\n",
       "      <td>6</td>\n",
       "      <td>8</td>\n",
       "      <td>1</td>\n",
       "      <td>1</td>\n",
       "      <td>8</td>\n",
       "      <td>6</td>\n",
       "    </tr>\n",
       "    <tr>\n",
       "      <th>2</th>\n",
       "      <td>5</td>\n",
       "      <td>6</td>\n",
       "      <td>6</td>\n",
       "      <td>8</td>\n",
       "      <td>1</td>\n",
       "      <td>1</td>\n",
       "      <td>8</td>\n",
       "      <td>6</td>\n",
       "      <td>1</td>\n",
       "    </tr>\n",
       "    <tr>\n",
       "      <th>3</th>\n",
       "      <td>6</td>\n",
       "      <td>6</td>\n",
       "      <td>8</td>\n",
       "      <td>1</td>\n",
       "      <td>1</td>\n",
       "      <td>8</td>\n",
       "      <td>6</td>\n",
       "      <td>1</td>\n",
       "      <td>6</td>\n",
       "    </tr>\n",
       "    <tr>\n",
       "      <th>4</th>\n",
       "      <td>6</td>\n",
       "      <td>8</td>\n",
       "      <td>1</td>\n",
       "      <td>1</td>\n",
       "      <td>8</td>\n",
       "      <td>6</td>\n",
       "      <td>1</td>\n",
       "      <td>6</td>\n",
       "      <td>3</td>\n",
       "    </tr>\n",
       "    <tr>\n",
       "      <th>5</th>\n",
       "      <td>8</td>\n",
       "      <td>1</td>\n",
       "      <td>1</td>\n",
       "      <td>8</td>\n",
       "      <td>6</td>\n",
       "      <td>1</td>\n",
       "      <td>6</td>\n",
       "      <td>3</td>\n",
       "      <td>1</td>\n",
       "    </tr>\n",
       "    <tr>\n",
       "      <th>6</th>\n",
       "      <td>1</td>\n",
       "      <td>1</td>\n",
       "      <td>8</td>\n",
       "      <td>6</td>\n",
       "      <td>1</td>\n",
       "      <td>6</td>\n",
       "      <td>3</td>\n",
       "      <td>1</td>\n",
       "      <td>6</td>\n",
       "    </tr>\n",
       "    <tr>\n",
       "      <th>7</th>\n",
       "      <td>1</td>\n",
       "      <td>8</td>\n",
       "      <td>6</td>\n",
       "      <td>1</td>\n",
       "      <td>6</td>\n",
       "      <td>3</td>\n",
       "      <td>1</td>\n",
       "      <td>6</td>\n",
       "      <td>5</td>\n",
       "    </tr>\n",
       "    <tr>\n",
       "      <th>8</th>\n",
       "      <td>8</td>\n",
       "      <td>6</td>\n",
       "      <td>1</td>\n",
       "      <td>6</td>\n",
       "      <td>3</td>\n",
       "      <td>1</td>\n",
       "      <td>6</td>\n",
       "      <td>5</td>\n",
       "      <td>3</td>\n",
       "    </tr>\n",
       "    <tr>\n",
       "      <th>9</th>\n",
       "      <td>6</td>\n",
       "      <td>1</td>\n",
       "      <td>6</td>\n",
       "      <td>3</td>\n",
       "      <td>1</td>\n",
       "      <td>6</td>\n",
       "      <td>5</td>\n",
       "      <td>3</td>\n",
       "      <td>1</td>\n",
       "    </tr>\n",
       "  </tbody>\n",
       "</table>\n",
       "</div>"
      ],
      "text/plain": [
       "   p1  p2  p3  p4  p5  p6  p7  p8  outcome\n",
       "0   5   5   5   6   6   8   1   1        8\n",
       "1   5   5   6   6   8   1   1   8        6\n",
       "2   5   6   6   8   1   1   8   6        1\n",
       "3   6   6   8   1   1   8   6   1        6\n",
       "4   6   8   1   1   8   6   1   6        3\n",
       "5   8   1   1   8   6   1   6   3        1\n",
       "6   1   1   8   6   1   6   3   1        6\n",
       "7   1   8   6   1   6   3   1   6        5\n",
       "8   8   6   1   6   3   1   6   5        3\n",
       "9   6   1   6   3   1   6   5   3        1"
      ]
     },
     "execution_count": 1,
     "metadata": {},
     "output_type": "execute_result"
    }
   ],
   "source": [
    "import pandas as pd\n",
    "from sklearn.preprocessing import LabelEncoder\n",
    "\n",
    "bol = pd.read_csv('ball.csv', sep=',')\n",
    "bol[:10]"
   ]
  },
  {
   "cell_type": "code",
   "execution_count": 2,
   "id": "6576b81c",
   "metadata": {},
   "outputs": [
    {
     "data": {
      "text/plain": [
       "104"
      ]
     },
     "execution_count": 2,
     "metadata": {},
     "output_type": "execute_result"
    }
   ],
   "source": [
    "# bol = bol.dropna(how = 'all')\n",
    "# bol.drop(bol[bol['Insulin'] == 0].index, inplace = True)\n",
    "index=bol.index\n",
    "len(index)\n",
    "# bol[:10]"
   ]
  },
  {
   "cell_type": "code",
   "execution_count": 3,
   "id": "1a22095a",
   "metadata": {},
   "outputs": [],
   "source": [
    "Le = LabelEncoder()\n",
    "\n",
    "bol['p1'] = Le.fit_transform(bol['p1'])\n",
    "bol['p2'] = Le.fit_transform(bol['p2'])\n",
    "bol['p3'] = Le.fit_transform(bol['p3'])\n",
    "bol['p4'] = Le.fit_transform(bol['p4'])\n",
    "bol['p5'] = Le.fit_transform(bol['p5'])\n",
    "bol['p6'] = Le.fit_transform(bol['p6'])\n",
    "bol['p7'] = Le.fit_transform(bol['p7'])\n",
    "bol['p8'] = Le.fit_transform(bol['p8'])\n",
    "bol['outcome'] = Le.fit_transform(bol['outcome'])"
   ]
  },
  {
   "cell_type": "code",
   "execution_count": 4,
   "id": "96a0f810",
   "metadata": {},
   "outputs": [],
   "source": [
    "DataDB = bol.values\n",
    "x = DataDB[:,:8]\n",
    "Y = DataDB[:,-1]"
   ]
  },
  {
   "cell_type": "code",
   "execution_count": 5,
   "id": "452fd599",
   "metadata": {},
   "outputs": [],
   "source": [
    "from sklearn.model_selection import train_test_split\n",
    "x_train, x_test, Y_train, Y_test = train_test_split(x, Y, train_size = 0.8)"
   ]
  },
  {
   "cell_type": "code",
   "execution_count": 6,
   "id": "b4335c24",
   "metadata": {},
   "outputs": [
    {
     "name": "stdout",
     "output_type": "stream",
     "text": [
      "Banyak data latih setelah dilakukan Train-Validation Split:  102\n",
      "Banyak data uji setelah dilakukan Train-Validation Split:  2\n"
     ]
    }
   ],
   "source": [
    "print(\"Banyak data latih setelah dilakukan Train-Validation Split: \", len(x_train))\n",
    "print(\"Banyak data uji setelah dilakukan Train-Validation Split: \", len(x_test))\n",
    "# x_test"
   ]
  },
  {
   "cell_type": "code",
   "execution_count": 7,
   "id": "a0479882",
   "metadata": {},
   "outputs": [
    {
     "name": "stdout",
     "output_type": "stream",
     "text": [
      "Akurasi dengan menggunakan Naive Bayessian:  0.00 %\n",
      "[[0 5 0 1 4 0 5 7]\n",
      " [4 0 6 0 1 1 5 0]]\n",
      "[4 7]\n",
      "[3 4]\n"
     ]
    }
   ],
   "source": [
    "from sklearn import tree\n",
    "from sklearn import metrics\n",
    "from sklearn import naive_bayes\n",
    "\n",
    "dt = tree.DecisionTreeClassifier()\n",
    "# dt = naive_bayes.BernoulliNB()\n",
    "# dt = naive_bayes.GaussianNB()\n",
    "# dt = naive_bayes.MultinomialNB()\n",
    "# dt = naive_bayes.ComplementNB()\n",
    "# dt = naive_bayes.CategoricalNB()\n",
    "\n",
    "dt.fit(x_train, Y_train)\n",
    "Y_pred = dt.predict(x_test)\n",
    "score = metrics.accuracy_score(Y_test, Y_pred)\n",
    "score = score*100\n",
    "print(\"Akurasi dengan menggunakan Naive Bayessian: \", format(score,\".2f\"),\"%\")\n",
    "print(x_test)\n",
    "print(Y_test)\n",
    "print(Y_pred)\n"
   ]
  },
  {
   "cell_type": "code",
   "execution_count": 8,
   "id": "7c6bca0c",
   "metadata": {},
   "outputs": [
    {
     "name": "stdout",
     "output_type": "stream",
     "text": [
      "[5 0 7 4 7 4 3 6]\n",
      "7\n"
     ]
    }
   ],
   "source": [
    "x_test[0]=[5,0,7,4,7,4,3,6]\n",
    "dt.fit(x_train, Y_train)\n",
    "Y_pred = dt.predict(x_test)\n",
    "print(x_test[0])\n",
    "print(Y_pred[0])"
   ]
  },
  {
   "cell_type": "code",
   "execution_count": 9,
   "id": "a9066e38",
   "metadata": {},
   "outputs": [],
   "source": [
    "# tree.plot_tree(dt)"
   ]
  },
  {
   "cell_type": "code",
   "execution_count": 10,
   "id": "2298cab7",
   "metadata": {},
   "outputs": [],
   "source": [
    "# import graphviz\n",
    "# dot_data = tree.export_graphviz(dt, out_file=None) \n",
    "# graph = graphviz.Source(dot_data) \n",
    "# graph.render(\"ball\") "
   ]
  },
  {
   "cell_type": "code",
   "execution_count": 11,
   "id": "07889db7",
   "metadata": {},
   "outputs": [],
   "source": [
    "# import pickle\n",
    "# import pandas as pd\n",
    "# pd.to_pickle(dt,\"ball.pkl\")"
   ]
  },
  {
   "cell_type": "code",
   "execution_count": null,
   "id": "bae94bea",
   "metadata": {},
   "outputs": [],
   "source": []
  }
 ],
 "metadata": {
  "kernelspec": {
   "display_name": "Python 3",
   "language": "python",
   "name": "python3"
  },
  "language_info": {
   "codemirror_mode": {
    "name": "ipython",
    "version": 3
   },
   "file_extension": ".py",
   "mimetype": "text/x-python",
   "name": "python",
   "nbconvert_exporter": "python",
   "pygments_lexer": "ipython3",
   "version": "3.8.8"
  }
 },
 "nbformat": 4,
 "nbformat_minor": 5
}
